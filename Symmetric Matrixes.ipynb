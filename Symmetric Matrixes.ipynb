{
 "cells": [
  {
   "cell_type": "markdown",
   "metadata": {},
   "source": [
    "Symmetric Matrices\n",
    "\n",
    "The eigenvalues of a symmetric matrix are always real and the eigenvectors are always orthogonal! \n",
    "\n",
    "Below example will prove the same"
   ]
  },
  {
   "cell_type": "code",
   "execution_count": 1,
   "metadata": {},
   "outputs": [],
   "source": [
    "import numpy as np\n",
    "import scipy.linalg as la"
   ]
  },
  {
   "cell_type": "code",
   "execution_count": 2,
   "metadata": {},
   "outputs": [
    {
     "data": {
      "text/plain": [
       "array([[5, 6, 1, 8],\n",
       "       [6, 8, 9, 2],\n",
       "       [8, 4, 2, 4],\n",
       "       [7, 3, 4, 5]])"
      ]
     },
     "execution_count": 2,
     "metadata": {},
     "output_type": "execute_result"
    }
   ],
   "source": [
    "#lets generate a 4X4 matrix\n",
    "n=4\n",
    "P = np.random.randint(0,10,(n,n))\n",
    "P"
   ]
  },
  {
   "cell_type": "code",
   "execution_count": 3,
   "metadata": {},
   "outputs": [
    {
     "data": {
      "text/plain": [
       "array([[5, 6, 8, 7],\n",
       "       [6, 8, 4, 3],\n",
       "       [1, 9, 2, 4],\n",
       "       [8, 2, 4, 5]])"
      ]
     },
     "execution_count": 3,
     "metadata": {},
     "output_type": "execute_result"
    }
   ],
   "source": [
    "#Take the transpose of P\n",
    "P.T"
   ]
  },
  {
   "cell_type": "code",
   "execution_count": 5,
   "metadata": {},
   "outputs": [
    {
     "name": "stdout",
     "output_type": "stream",
     "text": [
      "[[126 103  98  97]\n",
      " [103 185 106 112]\n",
      " [ 98 106 100  96]\n",
      " [ 97 112  96  99]]\n"
     ]
    }
   ],
   "source": [
    "# matix multiplication of matix and its tranpose always give a symmetric matrix\n",
    "\n",
    "S = P @ P.T\n",
    "print(S)"
   ]
  },
  {
   "cell_type": "code",
   "execution_count": 6,
   "metadata": {},
   "outputs": [
    {
     "name": "stdout",
     "output_type": "stream",
     "text": [
      "[438.21143511+0.j  53.58882853+0.j  15.07315854+0.j   3.12657782+0.j]\n",
      "[[-0.48100388 -0.58161483  0.65593156 -0.01064159]\n",
      " [-0.59032595  0.76511209  0.24422567 -0.08045235]\n",
      " [-0.45533641 -0.24139194 -0.55849214 -0.64998863]\n",
      " [-0.46132342 -0.1343786  -0.44519001  0.75559841]]\n"
     ]
    }
   ],
   "source": [
    "#get the eigenvalues and eigenvector of Symmetrix matrix S\n",
    "eigvals, eigvecs = la.eig(S)\n",
    "print(eigvals)  #as S is symmetric eigenvals are real\n",
    "print(eigvecs)"
   ]
  },
  {
   "cell_type": "code",
   "execution_count": 7,
   "metadata": {},
   "outputs": [],
   "source": [
    "#Check - eigen vector are orthogonal\n",
    "\n",
    "v0 = eigvecs[:,0]\n",
    "v1 = eigvecs[:,1]\n",
    "v2 = eigvecs[:,2]\n",
    "v3 = eigvecs[:,3]"
   ]
  },
  {
   "cell_type": "code",
   "execution_count": 8,
   "metadata": {},
   "outputs": [
    {
     "data": {
      "text/plain": [
       "0.0"
      ]
     },
     "execution_count": 8,
     "metadata": {},
     "output_type": "execute_result"
    }
   ],
   "source": [
    "round(v0 @ v1,2)  # for orthogonal it should be zero"
   ]
  },
  {
   "cell_type": "code",
   "execution_count": null,
   "metadata": {},
   "outputs": [],
   "source": []
  },
  {
   "cell_type": "code",
   "execution_count": null,
   "metadata": {},
   "outputs": [],
   "source": []
  }
 ],
 "metadata": {
  "kernelspec": {
   "display_name": "Python 3",
   "language": "python",
   "name": "python3"
  },
  "language_info": {
   "codemirror_mode": {
    "name": "ipython",
    "version": 3
   },
   "file_extension": ".py",
   "mimetype": "text/x-python",
   "name": "python",
   "nbconvert_exporter": "python",
   "pygments_lexer": "ipython3",
   "version": "3.8.5"
  }
 },
 "nbformat": 4,
 "nbformat_minor": 4
}
