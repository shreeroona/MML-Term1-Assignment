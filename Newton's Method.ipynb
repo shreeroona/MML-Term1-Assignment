{
 "cells": [
  {
   "cell_type": "markdown",
   "metadata": {},
   "source": [
    "# Newton's Rule"
   ]
  },
  {
   "cell_type": "markdown",
   "metadata": {},
   "source": [
    "Goal is to find the solution for $f(x)$ = 0\n",
    "i.e. find $x$ where $f(x)$ = 0\n",
    "Start at some $xo$, calculate $f(x)$ and $f’(x)$\n",
    "That gives equation of the blue line\n",
    "Now the equation of blue line is \n",
    "$ y = f(xo) + f’(xo)(x-xo)$\n",
    "\n",
    "See where this line touches $x$ axis. Call this $x1$. That point is closer to the goal than $xo$ is.\n",
    "Now use $x1$ and calculate $f(x1)$ and $f’(x1)$. The equation of this line is \n",
    "\n",
    "$y = f(x1) + f’(x1)(x-x1)$\n",
    "\n",
    "This line touches $x$ axis at $x2$ which is even closer to the goal than $x1$ was. \n",
    "\n",
    "Repeat this as many times each iteration is improving on the previous one.\n"
   ]
  },
  {
   "cell_type": "markdown",
   "metadata": {},
   "source": [
    "Ex - Find Square root of 2\n",
    "Write this as $ x = √2 $ or $ x^2 – 2 = 0$\n",
    "Visualize this curve:\n"
   ]
  },
  {
   "cell_type": "code",
   "execution_count": 46,
   "metadata": {},
   "outputs": [],
   "source": [
    "import numpy as np\n",
    "import matplotlib.pyplot as plt\n",
    "import sympy as sp"
   ]
  },
  {
   "cell_type": "code",
   "execution_count": 64,
   "metadata": {},
   "outputs": [
    {
     "data": {
      "image/png": "[encoded data removed]",
      "text/plain": [
       "<Figure size 432x288 with 1 Axes>"
      ]
     },
     "metadata": {
      "needs_background": "light"
     },
     "output_type": "display_data"
    }
   ],
   "source": [
    "x = np.linspace(-3,3,100)\n",
    "f = lambda x:(x**2-2)  # define the inline function\n",
    "y=f(x)\n",
    "plt.plot(x,y,label='y=f(x)')\n",
    "plt.legend()\n",
    "plt.grid(True)\n",
    "plt.axhline(y=0,xmin=-3,xmax=3,color ='red')\n",
    "plt.show()"
   ]
  },
  {
   "cell_type": "code",
   "execution_count": 52,
   "metadata": {},
   "outputs": [],
   "source": [
    "def derivative(f,a,h=0.01):\n",
    "    return((f(a+h)-f(a))/h)"
   ]
  },
  {
   "cell_type": "code",
   "execution_count": 63,
   "metadata": {},
   "outputs": [
    {
     "name": "stdout",
     "output_type": "stream",
     "text": [
      "at starting point -2 square root of 2 is  -1.4142076664959435\n",
      "at starting point -1 square root of 2 is  -1.414207272955248\n",
      "at starting point 0 square root of 2 is  1.4142240272514337\n",
      "at starting point 1 square root of 2 is  1.4142250094543332\n"
     ]
    }
   ],
   "source": [
    "#Newton's law\n",
    "\n",
    "# find the square root of 2\n",
    "\n",
    "def derivative(f,a,h=0.01):\n",
    "    return((f(a+h)-f(a))/h)\n",
    "\n",
    "for i in range(-2,2):  # to start the iterations at different values of x\n",
    "    x = i\n",
    "    f = lambda x:(x**2-2)\n",
    "    y=round(f(x),2)\n",
    "    while(y != 0):\n",
    "        y = round(f(x),2)\n",
    "        dydx = derivative(f,x)\n",
    "        #print(x, y)\n",
    "        if y == 0:\n",
    "            print(\"at starting point\", i, \"square root of 2 is \",x)\n",
    "        x=x-f(x)/dydx # to calculate new x\n",
    "    "
   ]
  },
  {
   "cell_type": "code",
   "execution_count": null,
   "metadata": {},
   "outputs": [],
   "source": []
  }
 ],
 "metadata": {
  "kernelspec": {
   "display_name": "Python 3",
   "language": "python",
   "name": "python3"
  },
  "language_info": {
   "codemirror_mode": {
    "name": "ipython",
    "version": 3
   },
   "file_extension": ".py",
   "mimetype": "text/x-python",
   "name": "python",
   "nbconvert_exporter": "python",
   "pygments_lexer": "ipython3",
   "version": "3.8.5"
  }
 },
 "nbformat": 4,
 "nbformat_minor": 4
}
