{
 "cells": [
  {
   "cell_type": "markdown",
   "metadata": {},
   "source": [
    "## Taylor Series\n",
    "### Higher order Derivative\n"
   ]
  },
  {
   "cell_type": "markdown",
   "metadata": {},
   "source": [
    "Estimate a function using Taylor's series of degree 2"
   ]
  },
  {
   "cell_type": "code",
   "execution_count": 4,
   "metadata": {},
   "outputs": [],
   "source": [
    "import sympy as sp\n",
    "import numpy as np\n",
    "import matplotlib.pyplot as plt"
   ]
  },
  {
   "cell_type": "code",
   "execution_count": 112,
   "metadata": {},
   "outputs": [
    {
     "data": {
      "text/latex": [
       "$\\displaystyle e^{x}$"
      ],
      "text/plain": [
       "exp(x)"
      ]
     },
     "execution_count": 112,
     "metadata": {},
     "output_type": "execute_result"
    }
   ],
   "source": [
    "#Ex 1\n",
    "#define a function which want to calculate via Taylor series\n",
    "# say cos(x)\n",
    "x = sp.Symbol('x')\n",
    "f = sp.exp(x)\n",
    "f"
   ]
  },
  {
   "cell_type": "code",
   "execution_count": 113,
   "metadata": {},
   "outputs": [],
   "source": [
    "# First caluclate the 1st, 2nd, and 3rd order derivative\n",
    "df1 = sp.diff(f,x,1) # derivative of first order\n",
    "df2 = sp.diff(f,x,2) # derivative of second order\n",
    "df3 = sp.diff(f,x,3) # derivative of third order\n",
    "d0 = sp.lambdify(x,f)\n",
    "d1 = sp.lambdify(x,df1)\n",
    "d2 = sp.lambdify(x,df2)\n",
    "d3 = sp.lambdify(x,df3)"
   ]
  },
  {
   "cell_type": "code",
   "execution_count": 129,
   "metadata": {
    "scrolled": true
   },
   "outputs": [],
   "source": [
    "# calculate coeffiecent of taylor series\n",
    "a0 = int(d0(0))\n",
    "a1 = int(d1(0))\n",
    "a2 = int(d2(0))\n",
    "a3 = int(d3(0))"
   ]
  },
  {
   "cell_type": "code",
   "execution_count": 130,
   "metadata": {
    "scrolled": false
   },
   "outputs": [
    {
     "data": {
      "text/latex": [
       "$\\displaystyle \\frac{x^{3}}{6} + \\frac{x^{2}}{2} + x + 1$"
      ],
      "text/plain": [
       "x**3/6 + x**2/2 + x + 1"
      ]
     },
     "execution_count": 130,
     "metadata": {},
     "output_type": "execute_result"
    }
   ],
   "source": [
    "f_taylor = a0 + a1*x*(1/sp.factorial(1))+a2*x**2*(1/sp.factorial(2))+a3*x**3*(1/sp.factorial(3))\n",
    "f_taylor"
   ]
  },
  {
   "cell_type": "code",
   "execution_count": 128,
   "metadata": {},
   "outputs": [
    {
     "data": {
      "text/plain": [
       "<function _lambdifygenerated(x)>"
      ]
     },
     "execution_count": 128,
     "metadata": {},
     "output_type": "execute_result"
    }
   ],
   "source": [
    "f_t = sp.lambdify(x,f_taylor)"
   ]
  },
  {
   "cell_type": "code",
   "execution_count": null,
   "metadata": {},
   "outputs": [],
   "source": [
    "# check the ouput of taylor series and actual function values is matching"
   ]
  },
  {
   "cell_type": "code",
   "execution_count": 124,
   "metadata": {},
   "outputs": [
    {
     "data": {
      "text/plain": [
       "2.6666666666666665"
      ]
     },
     "execution_count": 124,
     "metadata": {},
     "output_type": "execute_result"
    }
   ],
   "source": [
    "f_t(1)"
   ]
  },
  {
   "cell_type": "code",
   "execution_count": 125,
   "metadata": {},
   "outputs": [
    {
     "data": {
      "text/plain": [
       "2.718281828459045"
      ]
     },
     "execution_count": 125,
     "metadata": {},
     "output_type": "execute_result"
    }
   ],
   "source": [
    "d0(1)"
   ]
  },
  {
   "cell_type": "code",
   "execution_count": 135,
   "metadata": {},
   "outputs": [
    {
     "data": {
      "text/latex": [
       "$\\displaystyle \\frac{3 e^{x}}{x^{2} + x + 1}$"
      ],
      "text/plain": [
       "3*exp(x)/(x**2 + x + 1)"
      ]
     },
     "execution_count": 135,
     "metadata": {},
     "output_type": "execute_result"
    }
   ],
   "source": [
    "#Ex 2\n",
    "#define a function which want to calculate via Taylor series\n",
    "# say cos(x)\n",
    "x = sp.Symbol('x')\n",
    "f = (3*sp.exp(x))/(x**2+x+1)\n",
    "f"
   ]
  },
  {
   "cell_type": "code",
   "execution_count": 136,
   "metadata": {},
   "outputs": [],
   "source": [
    "# First caluclate the 1st, 2nd, and 3rd order derivative\n",
    "df1 = sp.diff(f,x,1) # derivative of first order\n",
    "df2 = sp.diff(f,x,2) # derivative of second order\n",
    "df3 = sp.diff(f,x,3) # derivative of third order\n",
    "d0 = sp.lambdify(x,f)\n",
    "d1 = sp.lambdify(x,df1)\n",
    "d2 = sp.lambdify(x,df2)\n",
    "d3 = sp.lambdify(x,df3)"
   ]
  },
  {
   "cell_type": "code",
   "execution_count": 137,
   "metadata": {
    "scrolled": true
   },
   "outputs": [],
   "source": [
    "# calculate coeffiecent of taylor series\n",
    "a0 = int(d0(0))\n",
    "a1 = int(d1(0))\n",
    "a2 = int(d2(0))\n",
    "a3 = int(d3(0))"
   ]
  },
  {
   "cell_type": "code",
   "execution_count": 138,
   "metadata": {
    "scrolled": false
   },
   "outputs": [
    {
     "data": {
      "text/latex": [
       "$\\displaystyle 2 x^{3} - \\frac{3 x^{2}}{2} + 3$"
      ],
      "text/plain": [
       "2*x**3 - 3*x**2/2 + 3"
      ]
     },
     "execution_count": 138,
     "metadata": {},
     "output_type": "execute_result"
    }
   ],
   "source": [
    "f_taylor = a0 + a1*x*(1/sp.factorial(1))+a2*x**2*(1/sp.factorial(2))+a3*x**3*(1/sp.factorial(3))\n",
    "f_taylor"
   ]
  },
  {
   "cell_type": "code",
   "execution_count": 128,
   "metadata": {},
   "outputs": [
    {
     "data": {
      "text/plain": [
       "<function _lambdifygenerated(x)>"
      ]
     },
     "execution_count": 128,
     "metadata": {},
     "output_type": "execute_result"
    }
   ],
   "source": [
    "f_t = sp.lambdify(x,f_taylor)"
   ]
  },
  {
   "cell_type": "code",
   "execution_count": 5,
   "metadata": {},
   "outputs": [
    {
     "data": {
      "image/png": "[encoded data removed]",
      "text/plain": [
       "<Figure size 432x288 with 1 Axes>"
      ]
     },
     "metadata": {
      "needs_background": "light"
     },
     "output_type": "display_data"
    }
   ],
   "source": [
    "x = np.linspace(-3,3,100)\n",
    "f = lambda x: np.exp(x)\n",
    "y = f(x)\n",
    "plt.plot(x,y);\n",
    "plt.show()"
   ]
  },
  {
   "cell_type": "code",
   "execution_count": 81,
   "metadata": {},
   "outputs": [
    {
     "data": {
      "text/latex": [
       "$\\displaystyle \\frac{x^{3}}{6} + 1$"
      ],
      "text/plain": [
       "x**3/6 + 1"
      ]
     },
     "execution_count": 81,
     "metadata": {},
     "output_type": "execute_result"
    }
   ],
   "source": [
    "a0+1/sp.factorial(3)*x**3*int(a3)"
   ]
  }
 ],
 "metadata": {
  "kernelspec": {
   "display_name": "Python 3",
   "language": "python",
   "name": "python3"
  },
  "language_info": {
   "codemirror_mode": {
    "name": "ipython",
    "version": 3
   },
   "file_extension": ".py",
   "mimetype": "text/x-python",
   "name": "python",
   "nbconvert_exporter": "python",
   "pygments_lexer": "ipython3",
   "version": "3.8.5"
  }
 },
 "nbformat": 4,
 "nbformat_minor": 4
}
