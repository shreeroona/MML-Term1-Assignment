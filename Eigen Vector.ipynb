{
 "cells": [
  {
   "cell_type": "markdown",
   "metadata": {},
   "source": [
    "Egien Vector and Eigen value"
   ]
  },
  {
   "cell_type": "code",
   "execution_count": 1,
   "metadata": {},
   "outputs": [],
   "source": [
    "import numpy as np\n",
    "import matplotlib.pyplot as plt\n",
    "import scipy.linalg as la"
   ]
  },
  {
   "cell_type": "markdown",
   "metadata": {},
   "source": [
    "A is squrae matrix\n",
    "$[1, 0 ],\n",
    "[0 ,-2]$\n",
    "v-->eigenvector\n",
    "lambda ---> eigenvalue\n",
    "la.eig will return a tuple (eigvals, eigvecs)\n",
    "\n",
    "A*v = lambda*v\n",
    "Bleow code proves the same"
   ]
  },
  {
   "cell_type": "code",
   "execution_count": 4,
   "metadata": {
    "scrolled": true
   },
   "outputs": [
    {
     "name": "stdout",
     "output_type": "stream",
     "text": [
      "eigvals: [ 1.+0.j -2.+0.j]\n",
      "eigvecs: [[1. 0.]\n",
      " [0. 1.]]\n",
      "eigvals are real for symmetric matrix: [ 1. -2.]\n",
      "[[ True]\n",
      " [ True]]\n"
     ]
    }
   ],
   "source": [
    "A = np.array([[1,0],[0,-2]])  # Initialize an symmertix array\n",
    "eigvals, eigvecs = la.eig(A) #get the eigen values and vetors\n",
    "print('eigvals:', eigvals)\n",
    "print('eigvecs:', eigvecs)\n",
    "eigvals = eigvals.real # eigen values are not complex as A is symmetric matrix\n",
    "print('eigvals are real for symmetric matrix:',eigvals)\n",
    "lambda1 = eigvals[1] \n",
    "#print(\"lamda1 :\", lambda1)\n",
    "v1 = eigvecs[:,1].reshape(2,1)\n",
    "#A @ v1 = lambda1 * v1\n",
    "\n",
    "print( A@v1 == lambda1*v1) # hence proved A*v = lambda*v"
   ]
  },
  {
   "cell_type": "code",
   "execution_count": 19,
   "metadata": {},
   "outputs": [
    {
     "data": {
      "text/plain": [
       "array([0., 1.])"
      ]
     },
     "execution_count": 19,
     "metadata": {},
     "output_type": "execute_result"
    }
   ],
   "source": [
    "v1 = eigvecs[:,1]\n",
    "v1.reshape(2,1)\n",
    "v1\n"
   ]
  },
  {
   "cell_type": "code",
   "execution_count": 27,
   "metadata": {
    "scrolled": true
   },
   "outputs": [
    {
     "data": {
      "text/plain": [
       "array([1., 0.])"
      ]
     },
     "execution_count": 27,
     "metadata": {},
     "output_type": "execute_result"
    }
   ],
   "source": [
    "A @ v0"
   ]
  },
  {
   "cell_type": "code",
   "execution_count": 38,
   "metadata": {},
   "outputs": [],
   "source": [
    "lambda0 = eigvals[0]"
   ]
  },
  {
   "cell_type": "code",
   "execution_count": 40,
   "metadata": {},
   "outputs": [
    {
     "data": {
      "text/plain": [
       "array([1., 0.])"
      ]
     },
     "execution_count": 40,
     "metadata": {},
     "output_type": "execute_result"
    }
   ],
   "source": [
    "lambda0 * v0"
   ]
  },
  {
   "cell_type": "code",
   "execution_count": 22,
   "metadata": {},
   "outputs": [
    {
     "data": {
      "text/plain": [
       "array([1., 0.])"
      ]
     },
     "execution_count": 22,
     "metadata": {},
     "output_type": "execute_result"
    }
   ],
   "source": [
    "v0 = eigvecs[0,:]\n",
    "v0.reshape(2,1)\n",
    "v0"
   ]
  }
 ],
 "metadata": {
  "kernelspec": {
   "display_name": "Python 3",
   "language": "python",
   "name": "python3"
  },
  "language_info": {
   "codemirror_mode": {
    "name": "ipython",
    "version": 3
   },
   "file_extension": ".py",
   "mimetype": "text/x-python",
   "name": "python",
   "nbconvert_exporter": "python",
   "pygments_lexer": "ipython3",
   "version": "3.8.5"
  }
 },
 "nbformat": 4,
 "nbformat_minor": 4
}
