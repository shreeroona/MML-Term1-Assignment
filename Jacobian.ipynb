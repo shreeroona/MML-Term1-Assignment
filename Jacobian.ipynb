{
 "cells": [
  {
   "cell_type": "markdown",
   "metadata": {},
   "source": [
    "## Jacobian\n",
    "The jacobian is simple a vector containing the partial derivatives of a given function.\n",
    "This is a vector that will point in the direction of the steepest slope of the function when given some coordinate.\n",
    "\n",
    "Below code will give jacobian vector of a function with two variables and return the value at given x and y "
   ]
  },
  {
   "cell_type": "code",
   "execution_count": null,
   "metadata": {},
   "outputs": [],
   "source": [
    "impot sympy as sp"
   ]
  },
  {
   "cell_type": "code",
   "execution_count": 45,
   "metadata": {},
   "outputs": [],
   "source": [
    "def jacobian(f,a=[0,0]):\n",
    "    jv = [sp.diff(f,x),sp.diff(f,y)]\n",
    "    ja  =sp.lambdify([x,y],jv)\n",
    "    jav= ja(a[0],a[1])\n",
    "    return(jv,jav)      "
   ]
  },
  {
   "cell_type": "code",
   "execution_count": 47,
   "metadata": {},
   "outputs": [
    {
     "name": "stdout",
     "output_type": "stream",
     "text": [
      "f(x)= 3*x**4 - x*y**2 + 4*x*y\n",
      "jacobian = ([12*x**3 - y**2 + 4*y, -2*x*y + 4*x], [99, -4])\n"
     ]
    }
   ],
   "source": [
    "x = sp.Symbol('x')\n",
    "y = sp.Symbol('y')\n",
    "f = 3*x**4+4*x*y-x*y**2\n",
    "print('f(x)=',f)\n",
    "print('jacobian =', jacobian(f,[2,3]))"
   ]
  }
 ],
 "metadata": {
  "kernelspec": {
   "display_name": "Python 3",
   "language": "python",
   "name": "python3"
  },
  "language_info": {
   "codemirror_mode": {
    "name": "ipython",
    "version": 3
   },
   "file_extension": ".py",
   "mimetype": "text/x-python",
   "name": "python",
   "nbconvert_exporter": "python",
   "pygments_lexer": "ipython3",
   "version": "3.8.5"
  }
 },
 "nbformat": 4,
 "nbformat_minor": 4
}
