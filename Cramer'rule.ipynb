{
 "cells": [
  {
   "cell_type": "markdown",
   "metadata": {},
   "source": [
    "Solving Linear Equation by Cramer's rule"
   ]
  },
  {
   "cell_type": "code",
   "execution_count": 2,
   "metadata": {},
   "outputs": [],
   "source": [
    "import numpy as np\n",
    "from numpy import array\n",
    "from numpy.linalg import det\n"
   ]
  },
  {
   "cell_type": "markdown",
   "metadata": {},
   "source": [
    "Ex-1\n",
    "Slove the equation\n",
    "\n",
    "-2x+3y = 3\n",
    "x+3y = 12"
   ]
  },
  {
   "cell_type": "code",
   "execution_count": 18,
   "metadata": {},
   "outputs": [
    {
     "name": "stdout",
     "output_type": "stream",
     "text": [
      "2.9999999999999996 2.9999999999999996\n"
     ]
    }
   ],
   "source": [
    "#Cramer's Rule\n",
    "#Ex-1 -Slove the equation\n",
    "# -2x+3y = 3\n",
    "# x+3y = 12\n",
    "\n",
    "import numpy as np\n",
    "from numpy import array\n",
    "from numpy.linalg import det\n",
    "\n",
    "\n",
    "A = np.array([[-2,3],[1,3]])\n",
    "#print(A)\n",
    "A.shape\n",
    "K = np.array([[3],[12]])\n",
    "#print(K)\n",
    "K.shape\n",
    "DX = np.array([[3,3],[12,3]])  # Replacing X for K\n",
    "DY = np.array([[-2,3],[1,12]]) # Replacing Y for K\n",
    "Da = det(A)  \n",
    "Dx = det(DX)\n",
    "Dy = det(DY)\n",
    "x = Dx/Da\n",
    "y = Dy/Da\n",
    "print(x,y)"
   ]
  },
  {
   "cell_type": "code",
   "execution_count": null,
   "metadata": {},
   "outputs": [],
   "source": [
    "#A = [2,-1,5,1],[3,2,2,-6],[1,3,3,-1],[5,-2,-3,3]\n",
    "#A = \n",
    "#B = [-3,-32,-47,49]\n",
    "#C = A.copy()\n",
    "#C = ([[2,-1,5,1],[3,2,2,-6],[1,3,3,-1],[5,-2,-3,3]])"
   ]
  },
  {
   "cell_type": "code",
   "execution_count": 10,
   "metadata": {},
   "outputs": [],
   "source": [
    "def Cramer_rule(array_A, array_B):\n",
    "    array_C = array_A.copy()\n",
    "    X=[]\n",
    "    for i in range(0,len(array_B)):\n",
    "        for j in range(0,len(array_B)):\n",
    "            array_C[j][i]=array_B[j]\n",
    "            if i>0:\n",
    "                array_C[j][i-1]=array_A[j][i-1]\n",
    "        Dx= round(det(array_C)/det(array_A),1)\n",
    "        X.append(Dx)\n",
    "    return(X)\n",
    "    "
   ]
  },
  {
   "cell_type": "code",
   "execution_count": null,
   "metadata": {},
   "outputs": [],
   "source": []
  },
  {
   "cell_type": "code",
   "execution_count": 22,
   "metadata": {},
   "outputs": [
    {
     "name": "stdout",
     "output_type": "stream",
     "text": [
      "[3.0, 3.0]\n"
     ]
    }
   ],
   "source": [
    "A = np.array([[-2,3],[1,3]])\n",
    "B = np.array([3,12])\n",
    "x = Cramer_rule(A,B)\n",
    "print(x)"
   ]
  }
 ],
 "metadata": {
  "kernelspec": {
   "display_name": "Python 3",
   "language": "python",
   "name": "python3"
  },
  "language_info": {
   "codemirror_mode": {
    "name": "ipython",
    "version": 3
   },
   "file_extension": ".py",
   "mimetype": "text/x-python",
   "name": "python",
   "nbconvert_exporter": "python",
   "pygments_lexer": "ipython3",
   "version": "3.8.5"
  }
 },
 "nbformat": 4,
 "nbformat_minor": 4
}
