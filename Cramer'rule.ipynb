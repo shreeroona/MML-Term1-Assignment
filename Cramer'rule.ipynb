{
 "cells": [
  {
   "cell_type": "markdown",
   "metadata": {},
   "source": [
    "Solving Linear Equation by Cramer's rule"
   ]
  },
  {
   "cell_type": "code",
   "execution_count": 2,
   "metadata": {},
   "outputs": [],
   "source": [
    "import numpy as np\n",
    "from numpy import array\n",
    "from numpy.linalg import det\n"
   ]
  },
  {
   "cell_type": "code",
   "execution_count": 18,
   "metadata": {},
   "outputs": [
    {
     "name": "stdout",
     "output_type": "stream",
     "text": [
      "2.9999999999999996 2.9999999999999996\n"
     ]
    }
   ],
   "source": [
    "#Cramer's Rule\n",
    "#Ex-1 -Slove the equation\n",
    "# -2x+3y = 3\n",
    "# x+3y = 12\n",
    "\n",
    "import numpy as np\n",
    "from numpy import array\n",
    "from numpy.linalg import det\n",
    "\n",
    "\n",
    "A = np.array([[-2,3],[1,3]])\n",
    "#print(A)\n",
    "A.shape\n",
    "K = np.array([[3],[12]])\n",
    "#print(K)\n",
    "K.shape\n",
    "DX = np.array([[3,3],[12,3]])  # Replacing X for K\n",
    "DY = np.array([[-2,3],[1,12]]) # Replacing Y for K\n",
    "Da = det(A)  \n",
    "Dx = det(DX)\n",
    "Dy = det(DY)\n",
    "x = Dx/Da\n",
    "y = Dy/Da\n",
    "print(x,y)"
   ]
  },
  {
   "cell_type": "markdown",
   "metadata": {},
   "source": [
    "Sovle for  $x, y , z$  \n",
    "$ 3x + 4y + 2z = 16  $ \n",
    "$ 4x - 6y + 11z = 30 $\n",
    "$ x - 8y + z = 10$"
   ]
  },
  {
   "cell_type": "code",
   "execution_count": 5,
   "metadata": {},
   "outputs": [],
   "source": [
    "def Cramer_rule(array_A, array_B):\n",
    "    array_C = array_A.copy()\n",
    "    X=[]\n",
    "    for i in range(0,len(array_B)):\n",
    "        for j in range(0,len(array_B)):\n",
    "            array_C[j][i]=array_B[j]\n",
    "            if i>0:\n",
    "                array_C[j][i-1]=array_A[j][i-1]\n",
    "        Dx= round(det(array_C)/det(array_A),1)\n",
    "        X.append(Dx)\n",
    "    return(X)"
   ]
  },
  {
   "cell_type": "code",
   "execution_count": 6,
   "metadata": {},
   "outputs": [
    {
     "name": "stdout",
     "output_type": "stream",
     "text": [
      "[5.7, -0.5, 0.4]\n"
     ]
    }
   ],
   "source": [
    "A = np.array([[3,4,2],[4,-6,11],[1,-8,1]])\n",
    "B = np.array([16,30,10])\n",
    "x = Cramer_rule(A,B)\n",
    "print(x)"
   ]
  },
  {
   "cell_type": "code",
   "execution_count": null,
   "metadata": {},
   "outputs": [],
   "source": []
  }
 ],
 "metadata": {
  "kernelspec": {
   "display_name": "Python 3",
   "language": "python",
   "name": "python3"
  },
  "language_info": {
   "codemirror_mode": {
    "name": "ipython",
    "version": 3
   },
   "file_extension": ".py",
   "mimetype": "text/x-python",
   "name": "python",
   "nbconvert_exporter": "python",
   "pygments_lexer": "ipython3",
   "version": "3.8.5"
  }
 },
 "nbformat": 4,
 "nbformat_minor": 4
}
